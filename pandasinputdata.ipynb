{
 "cells": [
  {
   "cell_type": "markdown",
   "metadata": {},
   "source": [
    "## pandas data input"
   ]
  },
  {
   "cell_type": "markdown",
   "metadata": {},
   "source": [
    "#### data input"
   ]
  },
  {
   "cell_type": "code",
   "execution_count": 4,
   "metadata": {},
   "outputs": [],
   "source": [
    "##라이브러리\n",
    "import pandas as pd\n",
    "import numpy as np"
   ]
  },
  {
   "cell_type": "code",
   "execution_count": null,
   "metadata": {},
   "outputs": [],
   "source": [
    "##출력방법\n",
    "df.columns # 칼럼명(필드)목록 출력\n",
    "df.index # 인덱스(레코드)목록  출력 \n",
    "df.dtypes # 칼럼 타입 출력\n",
    "df.values # 인덱스를 제외한 나머지 칼럼들의 값\n",
    "df.칼럼명 # 해당 칼럼 출력 \n",
    "df['칼럼명'] # 칼럼을 출력하는 같은 명령어 \n",
    "#loc으로 출력\n"
   ]
  },
  {
   "cell_type": "code",
   "execution_count": null,
   "metadata": {},
   "outputs": [],
   "source": [
    "##리스트를 데이터프레임으로 변환\n",
    "lst_A = ['a','b','c','d', 'e', 1, 2]\n",
    "df = pd.DataFrame(lst_A)\n",
    "##컬럼명 한번에 처리\n",
    "regionList = [\"A01\",\"A02\",\"A03\",\"A04\",\"A05\"]\n",
    "yearweekList = list(range(201501,201506,1))\n",
    "qtyList = list(range(100,600,100))\n",
    "#한개컬럼\n",
    "eachDf = pd.DataFrame(regionList, columns = [\"REGIONID\"])\n",
    "#여러개컬럼(zip으로 리스트를 하나로 묶어서 행처리 해야함)\n",
    "listDf = pd.DataFrame(\n",
    "    zip(regionList, yearweekList, qtyList),\n",
    "    columns = [\"REGIONID\", \"YEARWEEK\", \"QTY\"])"
   ]
  },
  {
   "cell_type": "code",
   "execution_count": null,
   "metadata": {},
   "outputs": [],
   "source": [
    "##딕셔너리 자료형을 데이터프레임으로 변환\n",
    "###딕셔너리로 할때는 key값이 자동으로 컬럼명으로 감\n",
    "regionList = [\"A01\",\"A02\",\"A03\",\"A04\",\"A05\"]\n",
    "yearweekList = list(range(201501,201506,1))\n",
    "qtyList = list(range(100,600,100))\n",
    "dictDf = {\"REGIONID\":regionList,\n",
    "          \"YEARWEEK\":yearweekList,\n",
    "          \"QTY\":qtyList}\n",
    "dictDf = pd.DataFrame(dictDf)"
   ]
  },
  {
   "cell_type": "code",
   "execution_count": null,
   "metadata": {},
   "outputs": [],
   "source": [
    "##리스트타입 변환방법\n",
    "df.columns.tolist() # 필드명 리스트\n",
    "df.values.tolist() # 전체 값 리스트(2차원 리스트로 출력)\n",
    "df.칼럼명.tolist() # 특정 칼럼만 리스트로 출력 \n",
    "df.index.tolist() # 인덱스 -> 리스트로 출력\n",
    "\n",
    "#numpy활용\n"
   ]
  },
  {
   "cell_type": "code",
   "execution_count": null,
   "metadata": {},
   "outputs": [],
   "source": [
    "##빈값과 반올림\n",
    "#null값\n",
    "df.y.fillna('null') # y 는 필드이름\n",
    "#소수점반올림\n",
    "df.yhat.round(2) # yhat은 필드이름"
   ]
  },
  {
   "cell_type": "code",
   "execution_count": null,
   "metadata": {},
   "outputs": [],
   "source": [
    "##인덱스 특정값 범위주는법\n",
    "test[pd.datetime(2018,1,1):pd.datetime(2018,1,6)]\n",
    "test[test.index <= pd.datetime(2018,1,6)]\n",
    "test.loc[pd.datetime(2018,1,1):pd.datetime(2018,1,6)]"
   ]
  },
  {
   "cell_type": "code",
   "execution_count": null,
   "metadata": {},
   "outputs": [],
   "source": [
    "##행조회방법(loc 사용)\n",
    "####데이터프레임명.loc[(조건식 (ex: customerData.EMI >2))또는(인덱스(ex[0:4]))]\n",
    "\n",
    "customerData= pd.read_csv(\"../dataset/customerdata.csv\")\n",
    "emiCondition= 3deviceCondition= 5\n",
    "## 조건설정\n",
    "answer= customerData.loc[(customerData.EMI==emiCondition) &\n",
    "                         (customerData.DEVICECOUNT>deviceCondition)]\n",
    "answer.head()"
   ]
  },
  {
   "cell_type": "code",
   "execution_count": 5,
   "metadata": {},
   "outputs": [
    {
     "ename": "NameError",
     "evalue": "name 'customerData' is not defined",
     "output_type": "error",
     "traceback": [
      "\u001b[1;31m---------------------------------------------------------------------------\u001b[0m",
      "\u001b[1;31mNameError\u001b[0m                                 Traceback (most recent call last)",
      "\u001b[1;32m<ipython-input-5-b8bb2a658609>\u001b[0m in \u001b[0;36m<module>\u001b[1;34m\u001b[0m\n\u001b[0;32m      1\u001b[0m \u001b[1;31m##데이터프레임 형변환\u001b[0m\u001b[1;33m\u001b[0m\u001b[1;33m\u001b[0m\u001b[1;33m\u001b[0m\u001b[0m\n\u001b[0;32m      2\u001b[0m \u001b[1;31m# 1. 데이터프레임명[\"컬럼명\"] = 데이터프레임명[\"컬럼명\"].astype(변경할 타입)\u001b[0m\u001b[1;33m\u001b[0m\u001b[1;33m\u001b[0m\u001b[1;33m\u001b[0m\u001b[0m\n\u001b[1;32m----> 3\u001b[1;33m \u001b[0mcustomerData\u001b[0m\u001b[1;33m[\u001b[0m\u001b[1;34m\"CUSTID\"\u001b[0m\u001b[1;33m]\u001b[0m \u001b[1;33m=\u001b[0m \u001b[0mcustomerData\u001b[0m\u001b[1;33m[\u001b[0m\u001b[1;34m\"CUSTID\"\u001b[0m\u001b[1;33m]\u001b[0m\u001b[1;33m.\u001b[0m\u001b[0mastype\u001b[0m\u001b[1;33m(\u001b[0m\u001b[0mstr\u001b[0m\u001b[1;33m)\u001b[0m\u001b[1;33m\u001b[0m\u001b[1;33m\u001b[0m\u001b[0m\n\u001b[0m\u001b[0;32m      4\u001b[0m \u001b[1;31m# 2. 데이터프레임명 = 데이터프레임명.astype({\"컬럼명\":변경할 타입})\u001b[0m\u001b[1;33m\u001b[0m\u001b[1;33m\u001b[0m\u001b[1;33m\u001b[0m\u001b[0m\n\u001b[0;32m      5\u001b[0m \u001b[0mcustomerData\u001b[0m \u001b[1;33m=\u001b[0m \u001b[0mcustomerData\u001b[0m\u001b[1;33m.\u001b[0m\u001b[0mastype\u001b[0m\u001b[1;33m(\u001b[0m\u001b[1;33m{\u001b[0m\u001b[1;34m\"CUSTID\"\u001b[0m\u001b[1;33m:\u001b[0m\u001b[0mstr\u001b[0m\u001b[1;33m}\u001b[0m\u001b[1;33m)\u001b[0m\u001b[1;33m\u001b[0m\u001b[1;33m\u001b[0m\u001b[0m\n",
      "\u001b[1;31mNameError\u001b[0m: name 'customerData' is not defined"
     ]
    }
   ],
   "source": [
    "##데이터프레임 형변환\n",
    "# 1. 데이터프레임명[\"컬럼명\"] = 데이터프레임명[\"컬럼명\"].astype(변경할 타입)\n",
    "customerData[\"CUSTID\"] = customerData[\"CUSTID\"].astype(str)\n",
    "# 2. 데이터프레임명 = 데이터프레임명.astype({\"컬럼명\":변경할 타입})\n",
    "customerData = customerData.astype({\"CUSTID\":str})"
   ]
  },
  {
   "cell_type": "code",
   "execution_count": null,
   "metadata": {},
   "outputs": [],
   "source": [
    "###원하는 값 뽑기(True& False)\n",
    "\n",
    "customerData= pd.read_csv(\"../dataset/customerdata.csv\")\n",
    "emiCondition= [\"2\",\"3\"]\n",
    "###answer1 의 경우 emiCondition 값이 2와 3이 포함된 경우만 도출\n",
    "answer1 = customerData[ customerData.EMI.isin(emiCondition) ]\n",
    "###answer2 의 경우 emiCondition 값이 2와 3이 포함되지 않은 경우만 도출\n",
    "answer2 = customerData[ ~ customerData.EMI.isin(emiCondition) ]\n"
   ]
  },
  {
   "cell_type": "code",
   "execution_count": null,
   "metadata": {},
   "outputs": [],
   "source": [
    "###중복값 제거\n",
    "##데이터프레임 명[검색부분].drop_duplicates()\n",
    "####loc 사용 후 []안에 [] 한번더 쓰면 인덱스를 지칭함\n",
    "customerData.loc[:,['EMI']].drop_duplicates()"
   ]
  },
  {
   "cell_type": "code",
   "execution_count": null,
   "metadata": {},
   "outputs": [],
   "source": [
    "###인덱스 초기화\n",
    "customerDataIndex = customerData.loc[[2,4,6]]"
   ]
  },
  {
   "cell_type": "code",
   "execution_count": null,
   "metadata": {},
   "outputs": [],
   "source": []
  }
 ],
 "metadata": {
  "kernelspec": {
   "display_name": "Python 3",
   "language": "python",
   "name": "python3"
  },
  "language_info": {
   "codemirror_mode": {
    "name": "ipython",
    "version": 3
   },
   "file_extension": ".py",
   "mimetype": "text/x-python",
   "name": "python",
   "nbconvert_exporter": "python",
   "pygments_lexer": "ipython3",
   "version": "3.7.3"
  }
 },
 "nbformat": 4,
 "nbformat_minor": 4
}
